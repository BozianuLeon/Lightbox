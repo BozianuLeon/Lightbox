{
 "cells": [
  {
   "attachments": {},
   "cell_type": "markdown",
   "metadata": {},
   "source": [
    "# Darts Framework Examples"
   ]
  },
  {
   "cell_type": "code",
   "execution_count": null,
   "metadata": {},
   "outputs": [],
   "source": [
    "import pandas as pd\n",
    "import numpy as np\n",
    "import torch\n",
    "import matplotlib.pyplot as plt\n",
    "torch.manual_seed(1)\n",
    "np.random.seed(1)\n",
    "import os\n",
    "\n",
    "os.environ[\"PYTORCH_ENABLE_MPS_FALLBACK\"] = \"1\"\n"
   ]
  },
  {
   "cell_type": "code",
   "execution_count": null,
   "metadata": {},
   "outputs": [],
   "source": [
    "from darts import TimeSeries\n",
    "from darts.utils.timeseries_generation import (\n",
    "    gaussian_timeseries,\n",
    "    linear_timeseries,\n",
    "    sine_timeseries,\n",
    ")\n",
    "\n",
    "from darts.models import (\n",
    "    RNNModel,\n",
    "    TCNModel,\n",
    "    TransformerModel,\n",
    "    NBEATSModel,\n",
    "    BlockRNNModel,\n",
    "    VARIMA,\n",
    ")\n",
    "from darts.metrics import mape, smape, mae\n",
    "from darts.dataprocessing.transformers import Scaler\n",
    "from darts.utils.timeseries_generation import datetime_attribute_timeseries\n",
    "from darts.datasets import AirPassengersDataset, MonthlyMilkDataset, ElectricityDataset\n"
   ]
  },
  {
   "cell_type": "code",
   "execution_count": null,
   "metadata": {},
   "outputs": [],
   "source": [
    "series_air = AirPassengersDataset().load()\n",
    "series_milk = MonthlyMilkDataset().load()\n",
    "\n",
    "series_air.plot(label=\"Number of air passengers\")\n",
    "series_milk.plot(label=\"Pounds of milk produced per cow\")\n",
    "plt.legend();"
   ]
  },
  {
   "cell_type": "code",
   "execution_count": null,
   "metadata": {},
   "outputs": [],
   "source": [
    "scaler_air, scaler_milk = Scaler(), Scaler()\n",
    "series_air_scaled = scaler_air.fit_transform(series_air).astype(np.float32)\n",
    "series_milk_scaled = scaler_milk.fit_transform(series_milk).astype(np.float32)\n",
    "\n",
    "series_air_scaled.plot(label=\"air\")\n",
    "series_milk_scaled.plot(label=\"milk\")\n",
    "plt.legend();"
   ]
  },
  {
   "cell_type": "code",
   "execution_count": null,
   "metadata": {},
   "outputs": [],
   "source": [
    "train_air, val_air = series_air_scaled[:-36], series_air_scaled[-36:]\n",
    "train_milk, val_milk = series_milk_scaled[:-36], series_milk_scaled[-36:]"
   ]
  },
  {
   "cell_type": "code",
   "execution_count": null,
   "metadata": {},
   "outputs": [],
   "source": [
    "train_air.dtype"
   ]
  },
  {
   "cell_type": "code",
   "execution_count": null,
   "metadata": {},
   "outputs": [],
   "source": [
    "model_air = NBEATSModel(\n",
    "    input_chunk_length=24, output_chunk_length=12, n_epochs=100, random_state=0\n",
    ")\n"
   ]
  },
  {
   "cell_type": "code",
   "execution_count": null,
   "metadata": {},
   "outputs": [],
   "source": [
    "model_air.fit(train_air, verbose=True);"
   ]
  },
  {
   "cell_type": "code",
   "execution_count": null,
   "metadata": {},
   "outputs": [],
   "source": [
    "pred = model_air.predict(n=36)\n",
    "\n",
    "series_air_scaled.plot(label=\"actual\")\n",
    "pred.plot(label=\"forecast\")\n",
    "plt.legend()\n",
    "print(\"MAPE = {:.2f}%\".format(mape(series_air_scaled, pred)))"
   ]
  },
  {
   "cell_type": "code",
   "execution_count": null,
   "metadata": {},
   "outputs": [],
   "source": [
    "model_air_milk = NBEATSModel(\n",
    "    input_chunk_length=24, output_chunk_length=12, n_epochs=50, random_state=0\n",
    ")"
   ]
  },
  {
   "cell_type": "code",
   "execution_count": null,
   "metadata": {},
   "outputs": [],
   "source": [
    "model_air_milk.fit([train_air, train_milk], verbose=True);"
   ]
  },
  {
   "cell_type": "code",
   "execution_count": null,
   "metadata": {},
   "outputs": [],
   "source": [
    "pred = model_air_milk.predict(n=36, series=train_air)\n",
    "\n",
    "series_air_scaled.plot(label=\"actual\")\n",
    "pred.plot(label=\"forecast\")\n",
    "plt.legend()\n",
    "print(\"MAPE = {:.2f}%\".format(mape(series_air_scaled, pred)))"
   ]
  },
  {
   "cell_type": "code",
   "execution_count": null,
   "metadata": {},
   "outputs": [],
   "source": [
    "any_series = sine_timeseries(length=50, freq=\"M\").astype(np.float32)\n",
    "pred = model_air_milk.predict(n=36, series=any_series)\n",
    "\n",
    "any_series.plot(label='\"any series, really\"')\n",
    "pred.plot(label=\"forecast\")\n",
    "plt.legend();"
   ]
  },
  {
   "cell_type": "code",
   "execution_count": null,
   "metadata": {},
   "outputs": [],
   "source": [
    "pred_list = model_air_milk.predict(n=36, series=[train_air, train_milk])\n",
    "for series, label in zip(pred_list, [\"air passengers\", \"milk production\"]):\n",
    "    series.plot(label=f\"forecast {label}\")\n",
    "plt.legend();"
   ]
  },
  {
   "cell_type": "code",
   "execution_count": null,
   "metadata": {},
   "outputs": [],
   "source": [
    "# build year and month series:\n",
    "air_year = datetime_attribute_timeseries(series_air_scaled, attribute=\"year\")\n",
    "air_month = datetime_attribute_timeseries(series_air_scaled, attribute=\"month\")\n",
    "\n",
    "milk_year = datetime_attribute_timeseries(series_milk_scaled, attribute=\"year\")\n",
    "milk_month = datetime_attribute_timeseries(series_milk_scaled, attribute=\"month\")\n",
    "\n",
    "# stack year and month to obtain series of 2 dimensions (year and month):\n",
    "air_covariates = air_year.stack(air_month)\n",
    "milk_covariates = milk_year.stack(milk_month)\n",
    "\n",
    "# scale them between 0 and 1:\n",
    "scaler_dt_air = Scaler()\n",
    "air_covariates = scaler_dt_air.fit_transform(air_covariates).astype(np.float32)\n",
    "\n",
    "scaler_dt_milk = Scaler()\n",
    "milk_covariates = scaler_dt_milk.fit_transform(milk_covariates).astype(np.float32)\n",
    "\n",
    "# split in train/validation sets:\n",
    "air_train_covariates, air_val_covariates = air_covariates[:-36], air_covariates[-36:]\n",
    "milk_train_covariates, milk_val_covariates = (\n",
    "    milk_covariates[:-36],\n",
    "    milk_covariates[-36:],\n",
    ")\n",
    "\n",
    "# plot the covariates:\n",
    "plt.figure()\n",
    "air_covariates.plot()\n",
    "plt.title(\"Air traffic covariates (year and month)\")\n",
    "\n",
    "plt.figure()\n",
    "milk_covariates.plot()\n",
    "plt.title(\"Milk production covariates (year and month)\");"
   ]
  },
  {
   "cell_type": "code",
   "execution_count": null,
   "metadata": {},
   "outputs": [],
   "source": [
    "model_pastcov = BlockRNNModel(\n",
    "    model=\"LSTM\",\n",
    "    input_chunk_length=24,\n",
    "    output_chunk_length=12,\n",
    "    n_epochs=100,\n",
    "    random_state=0,\n",
    ")"
   ]
  },
  {
   "cell_type": "code",
   "execution_count": null,
   "metadata": {},
   "outputs": [],
   "source": [
    "model_pastcov.fit(\n",
    "    series=[train_air, train_milk],\n",
    "    past_covariates=[air_train_covariates, milk_train_covariates],\n",
    "    verbose=False,\n",
    ");"
   ]
  },
  {
   "cell_type": "code",
   "execution_count": null,
   "metadata": {},
   "outputs": [],
   "source": [
    "model_futcov = RNNModel(\n",
    "    model=\"LSTM\",\n",
    "    hidden_dim=20,\n",
    "    batch_size=8,\n",
    "    n_epochs=100,\n",
    "    random_state=0,\n",
    "    training_length=36,\n",
    "    input_chunk_length=24,\n",
    "    force_reset=True,\n",
    ")\n",
    "\n",
    "model_futcov.fit(\n",
    "    series=[train_air, train_milk],\n",
    "    future_covariates=[air_train_covariates, milk_train_covariates],\n",
    "    verbose=False,\n",
    ");\n"
   ]
  },
  {
   "cell_type": "code",
   "execution_count": null,
   "metadata": {},
   "outputs": [],
   "source": [
    "pred_cov = model_pastcov.predict(n=36, series=train_air, past_covariates=air_covariates)\n",
    "\n",
    "series_air_scaled.plot(label=\"actual\")\n",
    "pred_cov.plot(label=\"forecast\")\n",
    "plt.legend();"
   ]
  },
  {
   "cell_type": "code",
   "execution_count": null,
   "metadata": {},
   "outputs": [],
   "source": [
    "backtest_pastcov = model_pastcov.historical_forecasts(\n",
    "    series_air_scaled,\n",
    "    past_covariates=air_covariates,\n",
    "    start=0.6,\n",
    "    forecast_horizon=12,\n",
    "    stride=1,\n",
    "    retrain=False,\n",
    ")\n",
    "\n",
    "print(\n",
    "    \"MAPE (BlockRNNModel with past covariates) = {:.2f}%\".format(\n",
    "        mape(series_air_scaled, backtest_pastcov)\n",
    "    )\n",
    ")\n",
    "\n",
    "backtest_futcov = model_futcov.historical_forecasts(\n",
    "    series_air_scaled,\n",
    "    future_covariates=air_covariates,\n",
    "    start=0.6,\n",
    "    forecast_horizon=12,\n",
    "    stride=1,\n",
    "    retrain=False,\n",
    ")\n",
    "\n",
    "print(\n",
    "    \"MAPE (RNNModel with future covariates) = {:.2f}%\".format(\n",
    "        mape(series_air_scaled, backtest_futcov)\n",
    "    )\n",
    ")"
   ]
  },
  {
   "cell_type": "code",
   "execution_count": null,
   "metadata": {},
   "outputs": [],
   "source": [
    "fig, axs = plt.subplots(1, 2, figsize=(14, 6))\n",
    "series_air_scaled.plot(label=\"actual\", ax=axs[0])\n",
    "backtest_pastcov.plot(label=\"forecast BlockRNN\", ax=axs[0])\n",
    "axs[0].legend()\n",
    "series_air_scaled.plot(label=\"actual\", ax=axs[1])\n",
    "backtest_futcov.plot(label=\"forecast RNN\", ax=axs[1], color=\"darkviolet\")\n",
    "axs[1].legend()\n",
    "plt.show()"
   ]
  },
  {
   "cell_type": "code",
   "execution_count": null,
   "metadata": {},
   "outputs": [],
   "source": [
    "multi_serie_elec = ElectricityDataset().load()"
   ]
  },
  {
   "cell_type": "code",
   "execution_count": null,
   "metadata": {},
   "outputs": [],
   "source": [
    "# retaining only three components in different ranges\n",
    "retained_components = [\"MT_002\", \"MT_008\", \"MT_009\"]\n",
    "multi_serie_elec = multi_serie_elec[retained_components]\n",
    "# resampling the multivariate time serie\n",
    "multi_serie_elec = multi_serie_elec.resample(freq=\"1H\")\n",
    "# keep the values for the last 5 days\n",
    "multi_serie_elec = multi_serie_elec[-168:]"
   ]
  },
  {
   "cell_type": "code",
   "execution_count": null,
   "metadata": {},
   "outputs": [],
   "source": [
    "multi_serie_elec.plot()\n",
    "plt.show()"
   ]
  },
  {
   "cell_type": "code",
   "execution_count": null,
   "metadata": {},
   "outputs": [],
   "source": [
    "# split in train/validation sets\n",
    "training_set, validation_set = multi_serie_elec[:-24], multi_serie_elec[-24:]\n",
    "\n",
    "# define a scaler, by default, normalize each component between 0 and 1\n",
    "scaler_dataset = Scaler()\n",
    "# scaler is fit on training set only to avoid leakage\n",
    "training_scaled = scaler_dataset.fit_transform(training_set)\n",
    "validation_scaled = scaler_dataset.transform(validation_set)\n",
    "\n",
    "\n",
    "def fit_and_pred(model, training, validation):\n",
    "    model.fit(training)\n",
    "    forecast = model.predict(len(validation))\n",
    "    return forecast"
   ]
  },
  {
   "cell_type": "code",
   "execution_count": null,
   "metadata": {},
   "outputs": [],
   "source": [
    "model_VARIMA = VARIMA(p=12, d=0, q=0, trend=\"n\")\n",
    "\n",
    "model_GRU = RNNModel(\n",
    "    input_chunk_length=24,\n",
    "    model=\"LSTM\",\n",
    "    hidden_dim=25,\n",
    "    n_rnn_layers=3,\n",
    "    training_length=36,\n",
    "    n_epochs=200,\n",
    ")\n",
    "\n",
    "# training and prediction with the VARIMA model\n",
    "forecast_VARIMA = fit_and_pred(model_VARIMA, training_scaled, validation_scaled)\n",
    "print(\"MAE (VARIMA) = {:.2f}\".format(mae(validation_scaled, forecast_VARIMA)))\n",
    "\n",
    "# training and prediction with the RNN model\n",
    "forecast_RNN = fit_and_pred(model_GRU, training_scaled, validation_scaled)\n",
    "print(\"MAE (RNN) = {:.2f}\".format(mae(validation_scaled, forecast_RNN)))"
   ]
  },
  {
   "cell_type": "code",
   "execution_count": null,
   "metadata": {},
   "outputs": [],
   "source": [
    "forecast_VARIMA = scaler_dataset.inverse_transform(forecast_VARIMA)\n",
    "forecast_RNN = scaler_dataset.inverse_transform(forecast_RNN)\n",
    "\n",
    "labels = [f\"forecast {component}\" for component in retained_components]\n",
    "fig, axs = plt.subplots(1, 2, figsize=(14, 6))\n",
    "validation_set.plot(ax=axs[0])\n",
    "forecast_VARIMA.plot(label=labels, ax=axs[0])\n",
    "axs[0].set_ylim(0, 500)\n",
    "axs[0].set_title(\"VARIMA model forecast\")\n",
    "axs[0].legend(loc=\"upper left\")\n",
    "validation_set.plot(ax=axs[1])\n",
    "forecast_RNN.plot(label=labels, ax=axs[1])\n",
    "axs[1].set_ylim(0, 500)\n",
    "axs[1].set_title(\"RNN model forecast\")\n",
    "axs[1].legend(loc=\"upper left\")\n",
    "plt.show()\n",
    "\n"
   ]
  },
  {
   "cell_type": "code",
   "execution_count": null,
   "metadata": {},
   "outputs": [],
   "source": []
  }
 ],
 "metadata": {
  "kernelspec": {
   "display_name": "Python 3 (ipykernel)",
   "language": "python",
   "name": "python3"
  },
  "language_info": {
   "codemirror_mode": {
    "name": "ipython",
    "version": 3
   },
   "file_extension": ".py",
   "mimetype": "text/x-python",
   "name": "python",
   "nbconvert_exporter": "python",
   "pygments_lexer": "ipython3",
   "version": "3.12.4"
  }
 },
 "nbformat": 4,
 "nbformat_minor": 4
}
