{
 "cells": [
  {
   "cell_type": "code",
   "execution_count": null,
   "metadata": {},
   "outputs": [],
   "source": [
    "import pandas as pd\n",
    "import numpy as np\n",
    "import matplotlib.pyplot as plt\n",
    "import pmdarima as pm\n",
    "from pmdarima.arima import ndiffs, nsdiffs\n",
    "from pmdarima.metrics import smape\n",
    "from sklearn.metrics import mean_squared_error\n",
    "import yfinance as yf"
   ]
  },
  {
   "cell_type": "code",
   "execution_count": null,
   "metadata": {},
   "outputs": [],
   "source": [
    "symbol = '^GSPC' # input\n",
    "start = '2012-01-01' # input \n",
    "end = '2022-07-21'  # input\n",
    "df = yf.download(symbol, start, end)"
   ]
  },
  {
   "cell_type": "code",
   "execution_count": null,
   "metadata": {},
   "outputs": [],
   "source": [
    "plt.figure(figsize=(8,4))\n",
    "plt.plot(df['Close'])\n",
    "plt.ylabel('Price')\n",
    "plt.show()"
   ]
  },
  {
   "cell_type": "code",
   "execution_count": null,
   "metadata": {},
   "outputs": [],
   "source": [
    "df = df.reset_index()\n",
    "train_len = int(df.shape[0] * 0.8)\n",
    "train_data, test_data = df[:train_len], df[train_len:]\n",
    "\n",
    "y_train = train_data['Close'].values\n",
    "y_test = test_data['Close'].values\n",
    "\n",
    "print(f\"{train_len} train samples\")\n",
    "print(f\"{df.shape[0] - train_len} test samples\")"
   ]
  },
  {
   "cell_type": "code",
   "execution_count": null,
   "metadata": {},
   "outputs": [],
   "source": [
    "kpss_diffs = ndiffs(y_train, alpha=0.05, test='kpss', max_d=6)\n",
    "adf_diffs = ndiffs(y_train, alpha=0.05, test='adf', max_d=6)\n",
    "n_diffs = max(adf_diffs, kpss_diffs)\n",
    "\n",
    "print(f\"Estimated differencing term: {n_diffs}\")"
   ]
  },
  {
   "cell_type": "code",
   "execution_count": null,
   "metadata": {},
   "outputs": [],
   "source": [
    "auto = pm.auto_arima(y_train, d=n_diffs, seasonal=False, stepwise=True,\n",
    "                     suppress_warnings=True, error_action=\"ignore\", max_p=6,\n",
    "                     max_order=None, trace=True)"
   ]
  },
  {
   "cell_type": "code",
   "execution_count": null,
   "metadata": {},
   "outputs": [],
   "source": [
    "print(auto.order)"
   ]
  },
  {
   "cell_type": "code",
   "execution_count": null,
   "metadata": {},
   "outputs": [],
   "source": [
    "model = auto\n",
    "\n",
    "def forecast_one_step():\n",
    "    fc, conf_int = model.predict(n_periods=1, return_conf_int=True)\n",
    "    return (\n",
    "        fc.tolist()[0],\n",
    "        np.asarray(conf_int).tolist()[0])\n",
    "\n",
    "forecasts = []\n",
    "confidence_intervals = []\n",
    "\n",
    "for new_ob in y_test:\n",
    "    fc, conf = forecast_one_step()\n",
    "    forecasts.append(fc)\n",
    "    confidence_intervals.append(conf)\n",
    "    \n",
    "    # Updates the existing model with a small number of MLE steps\n",
    "    model.update(new_ob)\n",
    "    \n",
    "print(f\"Mean squared error: {mean_squared_error(y_test, forecasts)}\")\n",
    "print(f\"SMAPE: {smape(y_test, forecasts)}\")"
   ]
  },
  {
   "cell_type": "code",
   "execution_count": null,
   "metadata": {},
   "outputs": [],
   "source": [
    "fig, axes = plt.subplots(2, 1, figsize=(10, 8))\n",
    "\n",
    "# --------------------- Actual vs. Predicted --------------------------\n",
    "axes[0].plot(y_train, color='blue', label='Training Data')\n",
    "axes[0].plot(test_data.index, forecasts, color='red', marker='o',\n",
    "             label='Predicted Price')\n",
    "\n",
    "axes[0].plot(test_data.index, y_test, color='green', label='Actual Price')\n",
    "axes[0].set_title('Microsoft Prices Prediction')\n",
    "axes[0].set_xlabel('Dates')\n",
    "axes[0].set_ylabel('Prices')\n",
    "\n",
    "axes[0].legend()\n",
    "\n",
    "# ------------------ Predicted with confidence intervals ----------------\n",
    "axes[1].plot(y_train, color='blue', label='Training Data')\n",
    "axes[1].plot(test_data.index, forecasts, color='red',\n",
    "             label='Predicted Price')\n",
    "\n",
    "axes[1].set_title('Prices Predictions & Confidence Intervals')\n",
    "axes[1].set_xlabel('Dates')\n",
    "axes[1].set_ylabel('Prices')\n",
    "\n",
    "conf_int = np.asarray(confidence_intervals)\n",
    "axes[1].fill_between(test_data.index,\n",
    "                     conf_int[:, 0], conf_int[:, 1],\n",
    "                     alpha=0.9, color='orange',\n",
    "                     label=\"Confidence Intervals\")\n",
    "\n",
    "axes[1].legend()\n",
    "fig.tight_layout()"
   ]
  },
  {
   "cell_type": "code",
   "execution_count": null,
   "metadata": {},
   "outputs": [],
   "source": []
  }
 ],
 "metadata": {
  "kernelspec": {
   "display_name": "Python 3 (ipykernel)",
   "language": "python",
   "name": "python3"
  },
  "language_info": {
   "codemirror_mode": {
    "name": "ipython",
    "version": 3
   },
   "file_extension": ".py",
   "mimetype": "text/x-python",
   "name": "python",
   "nbconvert_exporter": "python",
   "pygments_lexer": "ipython3",
   "version": "3.12.4"
  }
 },
 "nbformat": 4,
 "nbformat_minor": 4
}
