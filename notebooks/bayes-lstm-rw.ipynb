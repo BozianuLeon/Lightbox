{
 "cells": [
  {
   "cell_type": "code",
   "execution_count": null,
   "metadata": {},
   "outputs": [],
   "source": [
    "import numpy as np\n",
    "import pandas as pd\n",
    "import datetime\n",
    "from matplotlib import pyplot as plt\n",
    "\n",
    "from sklearn.preprocessing import MinMaxScaler\n",
    "from sklearn.metrics import mean_squared_error, mean_absolute_error, r2_score\n",
    "import tensorflow as tf\n",
    "import tensorflow_probability as tfp"
   ]
  },
  {
   "cell_type": "code",
   "execution_count": null,
   "metadata": {},
   "outputs": [],
   "source": [
    "np.random.seed(42)\n",
    "\n",
    "# Parameters for the random walk\n",
    "num_steps = 5000\n",
    "initial_temperature = 25  # Initial temperature value\n",
    "trend_slope = 0.0001  # Small linear upward trend\n",
    "\n",
    "# Generate random walk with upward trend\n",
    "random_walk = np.cumsum(np.random.normal(0, 1, num_steps)) + initial_temperature + np.arange(num_steps) * trend_slope\n",
    "# Generate date range\n",
    "start_date = datetime.datetime(2000, 1, 1)\n",
    "date_range = pd.date_range(start=start_date, periods=num_steps, freq='D')\n",
    "\n",
    "data = {'date': date_range, 'temperature': random_walk}\n",
    "df = pd.DataFrame(data)\n",
    "df.head()"
   ]
  },
  {
   "cell_type": "code",
   "execution_count": null,
   "metadata": {},
   "outputs": [],
   "source": [
    "plt.figure(figsize=(8, 4))\n",
    "plt.plot(df['date'], df['temperature'], linestyle='-', color='b')\n",
    "plt.xlabel('Date')\n",
    "plt.ylabel('Temperature')\n",
    "plt.title('Random Walk Temperature')\n",
    "plt.grid(True)\n",
    "plt.xticks(rotation=45)\n",
    "plt.tight_layout()\n",
    "plt.show()"
   ]
  },
  {
   "cell_type": "code",
   "execution_count": null,
   "metadata": {},
   "outputs": [],
   "source": [
    "# x1 = np.array(df.iloc[:,1]+np.random.randn(df.shape[0])).astype(np.float32).reshape(-1,1)\n",
    "train_size = int(0.8 * num_steps)\n",
    "\n",
    "# x1 = np.array(df.iloc[:train_size,1]).astype(np.float32).reshape(-1,1)\n",
    "sequence_length = 10\n",
    "train_input = np.lib.stride_tricks.sliding_window_view(df.iloc[:train_size,1].values, sequence_length)\n",
    "val_input = np.lib.stride_tricks.sliding_window_view(df.iloc[train_size:,1].values, sequence_length)\n",
    "\n",
    "y1 = np.array(df.iloc[sequence_length:train_size+1,1]).T.astype(np.float32).reshape(-1,1)\n",
    "y2 = np.array(df.iloc[sequence_length+train_size-1:,1]).T.astype(np.float32).reshape(-1,1)\n",
    "\n",
    "tfd = tfp.distributions"
   ]
  },
  {
   "cell_type": "code",
   "execution_count": null,
   "metadata": {},
   "outputs": [],
   "source": [
    "print(val_input.shape)\n",
    "print(y2.shape)\n",
    "print(train_input[:5])\n",
    "print()\n",
    "print(y1[:5])\n",
    "print(train_input.shape,y1.shape)"
   ]
  },
  {
   "cell_type": "code",
   "execution_count": null,
   "metadata": {},
   "outputs": [],
   "source": [
    "# Specify the surrogate posterior over `keras.layers.Dense` `kernel` and `bias`.\n",
    "def posterior_mean_field(kernel_size, bias_size=0, dtype=None):\n",
    "  n = kernel_size + bias_size\n",
    "  c = np.log(np.expm1(1.))\n",
    "  return tf.keras.Sequential([\n",
    "      tfp.layers.VariableLayer(2 * n, dtype=dtype),\n",
    "      tfp.layers.DistributionLambda(lambda t: tfd.Independent(\n",
    "          tfd.Normal(loc=t[..., :n],\n",
    "                     scale=1e-5 + tf.nn.softplus(c + t[..., n:])),\n",
    "          reinterpreted_batch_ndims=1)),\n",
    "  ])\n",
    "\n",
    "# Specify the prior over `keras.layers.Dense` `kernel` and `bias`.\n",
    "def prior_trainable(kernel_size, bias_size=0, dtype=None):\n",
    "  n = kernel_size + bias_size\n",
    "  return tf.keras.Sequential([\n",
    "      tfp.layers.VariableLayer(n, dtype=dtype),\n",
    "      tfp.layers.DistributionLambda(lambda t: tfd.Independent(\n",
    "          tfd.Normal(loc=t, scale=1),\n",
    "          reinterpreted_batch_ndims=1)),\n",
    "  ])\n"
   ]
  },
  {
   "cell_type": "code",
   "execution_count": null,
   "metadata": {},
   "outputs": [],
   "source": [
    "model = tf.keras.Sequential([\n",
    "  tf.keras.layers.Dense(32,activation='relu'),\n",
    "  tfp.layers.DenseVariational(1 + 1, posterior_mean_field, prior_trainable, kl_weight=1/train_input.shape[0]),\n",
    "  tfp.layers.DistributionLambda(\n",
    "      lambda t: tfd.Normal(loc=t[..., :1],scale=1e-3 + tf.math.softplus(0.01 * t[...,1:]))),\n",
    "])"
   ]
  },
  {
   "cell_type": "code",
   "execution_count": null,
   "metadata": {},
   "outputs": [],
   "source": [
    "negloglik = lambda y, rv_y: -rv_y.log_prob(y)\n",
    "\n",
    "# Do inference.\n",
    "model.compile(optimizer=tf.optimizers.legacy.Adam(learning_rate=0.01), loss=negloglik)\n",
    "model.fit(train_input, y1, epochs=1500, verbose=1);\n"
   ]
  },
  {
   "cell_type": "code",
   "execution_count": null,
   "metadata": {},
   "outputs": [],
   "source": [
    "# Profit.\n",
    "yhat = model(val_input)\n",
    "[print(np.squeeze(w.numpy())) for w in model.weights];\n",
    "assert isinstance(yhat, tfd.Distribution)"
   ]
  },
  {
   "cell_type": "code",
   "execution_count": null,
   "metadata": {},
   "outputs": [],
   "source": [
    "yhats = [model(val_input) for _ in range(100)]\n",
    "for i, yhat in enumerate(yhats):\n",
    "  m = np.squeeze(yhat.mean())\n",
    "  s = np.squeeze(yhat.stddev())"
   ]
  },
  {
   "cell_type": "code",
   "execution_count": null,
   "metadata": {},
   "outputs": [],
   "source": [
    "val_dates = np.array(df.iloc[sequence_length+train_size-1:,0]).T.reshape(-1,1)\n",
    "\n",
    "upper_bound = m + s\n",
    "lower_bound = m - s\n",
    "\n",
    "plt.figure(figsize=(10, 6))\n",
    "plt.plot(val_dates,y2, label='True Values', color='blue')\n",
    "plt.plot(val_dates,m, label='Predicted Mean', color='red')\n",
    "plt.fill_between(val_dates.reshape(-1), lower_bound, upper_bound, color='orange', alpha=0.3, label='Uncertainty Interval')\n",
    "plt.xlabel('Time Step')\n",
    "plt.ylabel('Value')\n",
    "plt.title('Predictions with Uncertainties')\n",
    "plt.legend()\n",
    "plt.grid(True)\n",
    "plt.tight_layout()\n",
    "plt.show()"
   ]
  },
  {
   "cell_type": "code",
   "execution_count": null,
   "metadata": {},
   "outputs": [],
   "source": [
    "test_size = -50\n",
    "test_input = np.lib.stride_tricks.sliding_window_view(df.iloc[test_size:,1].values, sequence_length)\n",
    "y3 = np.array(df.iloc[sequence_length+test_size-1:,1]).T.astype(np.float32).reshape(-1,1)\n",
    "test_dates = np.array(df.iloc[sequence_length+test_size-1:,0]).T.reshape(-1,1)\n",
    "\n",
    "yhats_test = [model(test_input) for _ in range(100)]\n",
    "\n",
    "for i, yhat in enumerate(yhats_test):\n",
    "  m_test = np.squeeze(yhat.mean())\n",
    "  s_test = np.squeeze(yhat.stddev())\n",
    "\n",
    "print(test_input.shape,y3.shape,test_dates.shape,m_test.shape)\n",
    "upper_bound = m_test + s_test\n",
    "lower_bound = m_test - s_test\n",
    "\n",
    "plt.figure(figsize=(10,5))\n",
    "plt.plot(test_dates, y3, label='True Values', color='blue')\n",
    "plt.plot(test_dates, m_test, label='Predicted Mean', color='red')\n",
    "plt.fill_between(test_dates.reshape(-1), lower_bound, upper_bound, color='orange', alpha=0.3, label='Uncertainty Interval')\n",
    "plt.xlabel('Time Step')\n",
    "plt.ylabel('Value')\n",
    "plt.title('Predictions with Uncertainties')\n",
    "plt.legend()\n",
    "plt.grid(True)\n",
    "plt.tight_layout()\n",
    "plt.show()"
   ]
  },
  {
   "cell_type": "code",
   "execution_count": null,
   "metadata": {},
   "outputs": [],
   "source": []
  },
  {
   "cell_type": "code",
   "execution_count": null,
   "metadata": {},
   "outputs": [],
   "source": []
  },
  {
   "cell_type": "code",
   "execution_count": null,
   "metadata": {},
   "outputs": [],
   "source": []
  },
  {
   "cell_type": "code",
   "execution_count": null,
   "metadata": {},
   "outputs": [],
   "source": []
  },
  {
   "cell_type": "code",
   "execution_count": null,
   "metadata": {},
   "outputs": [],
   "source": []
  },
  {
   "cell_type": "code",
   "execution_count": null,
   "metadata": {},
   "outputs": [],
   "source": []
  },
  {
   "cell_type": "code",
   "execution_count": null,
   "metadata": {},
   "outputs": [],
   "source": []
  },
  {
   "cell_type": "code",
   "execution_count": null,
   "metadata": {},
   "outputs": [],
   "source": [
    "#maybe log the close before normalise\n",
    "def prepare_rnn_data(df, window_size, train_ratio=0.8):\n",
    "    # Extract temperature values\n",
    "    temperature_values = df['temperature'].values.reshape(-1, 1)\n",
    "\n",
    "    # Split data into training and validation sets\n",
    "    train_size = int(len(temperature_values) * train_ratio)\n",
    "    train_data = temperature_values[:train_size]\n",
    "    val_data = temperature_values[train_size:]\n",
    "\n",
    "    # Normalize the training data using Min-Max scaling\n",
    "    scaler = MinMaxScaler()\n",
    "    train_data = scaler.fit_transform(train_data)\n",
    "\n",
    "    # Create sequences of input data and corresponding targets for training\n",
    "    train_input_sequences = []\n",
    "    train_targets = []\n",
    "    for i in range(len(train_data) - window_size):\n",
    "        input_seq = train_data[i : i + window_size]\n",
    "        target = train_data[i + window_size]\n",
    "        train_input_sequences.append(input_seq)\n",
    "        train_targets.append(target)\n",
    "\n",
    "    # Normalize the validation data using the trained scaler\n",
    "    val_data = scaler.transform(val_data)\n",
    "    # Create sequences of input data and corresponding targets for validation\n",
    "    val_input_sequences = []\n",
    "    val_targets = []\n",
    "    for i in range(len(val_data) - window_size):\n",
    "        input_seq = val_data[i : i + window_size]\n",
    "        target = val_data[i + window_size]\n",
    "        val_input_sequences.append(input_seq)\n",
    "        val_targets.append(target)\n",
    "\n",
    "    return (\n",
    "        np.array(train_input_sequences),\n",
    "        np.array(train_targets),\n",
    "        np.array(val_input_sequences),\n",
    "        np.array(val_targets),\n",
    "        scaler,\n",
    "    )"
   ]
  },
  {
   "cell_type": "code",
   "execution_count": null,
   "metadata": {},
   "outputs": [],
   "source": [
    "window_size = 10\n",
    "train_ratio = 0.8\n",
    "train_input, train_target, val_input, val_target, scaler = prepare_rnn_data(df, window_size,train_ratio)\n",
    "\n",
    "print(\"Train Input Shape:\", train_input.shape)\n",
    "print(\"Train Target Shape:\", train_target.shape)\n",
    "print(\"Validation Input Shape:\", val_input.shape)\n",
    "print(\"Validation Target Shape:\", val_target.shape)"
   ]
  },
  {
   "cell_type": "code",
   "execution_count": null,
   "metadata": {},
   "outputs": [],
   "source": [
    "\n",
    "# Specify the prior over `keras.layers.Dense` `kernel` and `bias`.\n",
    "def prior_trainable(kernel_size, bias_size=0, dtype=None):\n",
    "    n = kernel_size + bias_size\n",
    "    return tf.keras.Sequential([\n",
    "    tfp.layers.VariableLayer(n, dtype=dtype),\n",
    "    tfp.layers.DistributionLambda(lambda t: tfp.distributions.Independent(\n",
    "        tfp.distributions.Normal(loc=t, scale=1),\n",
    "        reinterpreted_batch_ndims=1)),\n",
    "    ])\n",
    "    \n",
    "# Specify the surrogate posterior over `keras.layers.Dense` `kernel` and `bias`.\n",
    "def posterior_mean_field(kernel_size, bias_size=0, dtype=None):\n",
    "    n = kernel_size + bias_size\n",
    "    c = np.log(np.expm1(1.))\n",
    "    return tf.keras.Sequential([\n",
    "    tfp.layers.VariableLayer(2 * n, dtype=dtype),\n",
    "    tfp.layers.DistributionLambda(lambda t: tfp.distributions.Independent(\n",
    "        tfp.distributions.Normal(\n",
    "            loc=t[..., :n],\n",
    "            scale=1e-5 + tf.nn.softplus(c + t[..., n:])\n",
    "        ),\n",
    "    reinterpreted_batch_ndims=1)),\n",
    "    ])"
   ]
  },
  {
   "cell_type": "code",
   "execution_count": null,
   "metadata": {},
   "outputs": [],
   "source": [
    "def create_rnn_model(input_shape, rnn_units, dense_units):\n",
    "    model = tf.keras.models.Sequential([\n",
    "        tf.keras.layers.SimpleRNN(rnn_units, input_shape=input_shape, activation='relu', return_sequences=True),\n",
    "        tf.keras.layers.SimpleRNN(rnn_units, activation='relu'),\n",
    "        tf.keras.layers.Dense(dense_units),\n",
    "        tfp.layers.DenseVariational(2, posterior_mean_field, prior_trainable),\n",
    "        tfp.layers.DistributionLambda(\n",
    "            lambda t: tfp.distributions.Normal(\n",
    "                loc=t[..., :1],\n",
    "                scale=1e-3 + tf.math.softplus(0.01 * t[...,1:])))\n",
    "    ])\n",
    "    return model\n"
   ]
  },
  {
   "cell_type": "code",
   "execution_count": null,
   "metadata": {},
   "outputs": [],
   "source": [
    "rnn_units = 32  # Number of RNN units\n",
    "dense_units = 8  # Number of units in the dense layer (output)\n",
    "\n",
    "# Create the RNN model\n",
    "input_shape = (window_size, 1)  # Shape of input sequences (window size, number of features)\n",
    "model = create_rnn_model(input_shape, rnn_units, dense_units)\n",
    "\n",
    "negloglik = lambda y, rv_y: -rv_y.log_prob(y)\n",
    "\n",
    "# Compile the model\n",
    "model.compile(optimizer='adam', loss=negloglik)\n",
    "\n",
    "# Train the model\n",
    "batch_size = 32\n",
    "epochs = 50\n",
    "history = model.fit(train_input, train_target, batch_size=batch_size, epochs=epochs, validation_data=(val_input, val_target))"
   ]
  },
  {
   "cell_type": "code",
   "execution_count": null,
   "metadata": {},
   "outputs": [],
   "source": [
    "\n",
    "plt.figure(figsize=(5, 3))\n",
    "plt.plot(history.history['loss'], label='Training Loss')\n",
    "plt.plot(history.history['val_loss'], label='Validation Loss')\n",
    "plt.xlabel('Epoch')\n",
    "plt.ylabel('Loss')\n",
    "plt.title('Training and Validation Loss')\n",
    "plt.legend()\n",
    "plt.grid(True)\n",
    "plt.tight_layout()\n",
    "plt.show()\n"
   ]
  },
  {
   "cell_type": "code",
   "execution_count": null,
   "metadata": {},
   "outputs": [],
   "source": [
    "train_size = int(len(df['temperature']) * train_ratio)\n",
    "train_size = -50\n",
    "true_values = df['temperature'].values[train_size:]\n",
    "true_values2 = df['temperature'].shift(1).values[train_size:]\n",
    "# Assuming 'model' is your trained RNN model\n",
    "forecast_input = val_input  # You can replace this with your test/validation data\n",
    "forecast = model.predict(forecast_input)\n",
    "\n",
    "# Inverse transform forecast data using the scaler to get original temperature scale\n",
    "forecast = scaler.inverse_transform(forecast)[train_size+10:]\n",
    "\n",
    "plt.figure(figsize=(10, 6))\n",
    "plt.plot(true_values, label='True Temperature', marker='o', linestyle='-', color='b')\n",
    "plt.plot(true_values2, label='Shifted', marker='o', linestyle='-', color='grey')\n",
    "plt.plot(range(window_size, len(true_values)), forecast, label='Forecast', marker='x', linestyle='--', color='r')\n",
    "plt.xlabel('Time Step')\n",
    "plt.ylabel('Temperature')\n",
    "plt.title('True Temperature vs Forecast')\n",
    "plt.legend()\n",
    "plt.grid(True)\n",
    "plt.tight_layout()\n",
    "plt.show()"
   ]
  },
  {
   "cell_type": "code",
   "execution_count": null,
   "metadata": {},
   "outputs": [],
   "source": [
    "def calculate_mape(true_data, forecast_data):\n",
    "    absolute_percentage_errors = np.abs((true_data - forecast_data) / true_data)\n",
    "    mape = np.mean(absolute_percentage_errors) * 100\n",
    "    return mape\n",
    "\n",
    "def calculate_rmse(true_data, forecast_data):\n",
    "    rmse = np.sqrt(mean_squared_error(true_data, forecast_data))\n",
    "    return rmse\n",
    "\n",
    "def calculate_mae(true_data, forecast_data):\n",
    "    mae = mean_absolute_error(true_data, forecast_data)\n",
    "    return mae\n",
    "\n",
    "def calculate_r2(true_data, forecast_data):\n",
    "    r2 = r2_score(true_data, forecast_data)\n",
    "    return r2\n",
    "\n",
    "def calculate_forecast_bias(true_data, forecast_data):\n",
    "    forecast_bias = np.mean(forecast_data - true_data)\n",
    "    return forecast_bias\n",
    "\n",
    "true_values = df['temperature'].values[train_size+window_size:]\n",
    "true_values2 = df['temperature'].shift(1).values[train_size+window_size:]\n",
    "    \n",
    "mape = calculate_mape(true_values, forecast)\n",
    "rmse = calculate_rmse(true_values, forecast)\n",
    "mae = calculate_mae(true_values, forecast)\n",
    "fb = calculate_forecast_bias(true_values, forecast)\n",
    "r2 = calculate_r2(true_values, forecast)\n",
    "print(\"MAPE:\", mape,'\\nRMSE:',rmse,'\\nMAE:',mae,'\\nFB:',fb,'\\nR2:',r2)\n",
    "print()\n",
    "mape2 = calculate_mape(true_values, true_values2)\n",
    "rmse2 = calculate_rmse(true_values, true_values2)\n",
    "mae2 = calculate_mae(true_values, true_values2)\n",
    "r22 = calculate_r2(true_values, true_values2)\n",
    "fb2 = calculate_forecast_bias(true_values, true_values2)\n",
    "print(\"MAPE:\", mape,'\\nRMSE:',rmse,'\\nMAE:',mae,'\\nFB:',fb2,'\\nR2:',r2)"
   ]
  },
  {
   "cell_type": "code",
   "execution_count": null,
   "metadata": {},
   "outputs": [],
   "source": []
  },
  {
   "cell_type": "code",
   "execution_count": null,
   "metadata": {},
   "outputs": [],
   "source": []
  },
  {
   "cell_type": "code",
   "execution_count": null,
   "metadata": {},
   "outputs": [],
   "source": []
  }
 ],
 "metadata": {
  "kernelspec": {
   "display_name": "lightbox",
   "language": "python",
   "name": "python3"
  },
  "language_info": {
   "codemirror_mode": {
    "name": "ipython",
    "version": 3
   },
   "file_extension": ".py",
   "mimetype": "text/x-python",
   "name": "python",
   "nbconvert_exporter": "python",
   "pygments_lexer": "ipython3",
   "version": "3.11.3"
  },
  "orig_nbformat": 4
 },
 "nbformat": 4,
 "nbformat_minor": 2
}
